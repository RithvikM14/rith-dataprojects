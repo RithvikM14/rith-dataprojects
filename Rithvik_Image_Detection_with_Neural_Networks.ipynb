{
  "cells": [
    {
      "cell_type": "markdown",
      "metadata": {
        "id": "2Rwl-BV-ZsYN"
      },
      "source": [
        "Data Science By Rithvik Mandumula\n",
        "# Applying neural networks to an image-recognition task: recognizing handwritten digits.\n",
        "\n"
      ]
    },
    {
      "cell_type": "code",
      "execution_count": null,
      "metadata": {
        "id": "ZFmInVaaXmBs"
      },
      "outputs": [],
      "source": [
        "from datascience import *\n",
        "import numpy as np\n",
        "\n",
        "import matplotlib\n",
        "matplotlib.use('Agg')\n",
        "%matplotlib inline\n",
        "import matplotlib.pyplot as plots"
      ]
    },
    {
      "cell_type": "markdown",
      "metadata": {
        "id": "OTxFUFDKX0kS"
      },
      "source": [
        "For this project, I will be using a famous benchmark dataset, the [MNIST database](https://en.wikipedia.org/wiki/MNIST_database). This dataset consists of 70,000 images of handwritten digits (see a sample [here](https://upload.wikimedia.org/wikipedia/commons/2/27/MnistExamples.png)), which have all been manually labeled with numbers from 0 to 9.\n",
        "\n",
        "To load this dataset, I used a built-in function from the scikit-learn library, `fetch_openml`, which will retrieve the dataset from an online repository and then store the features and corresponding labels in two NumPy arrays, `X_raw` and `y_raw`:"
      ]
    },
    {
      "cell_type": "code",
      "execution_count": null,
      "metadata": {
        "id": "InWfNI31XpsL"
      },
      "outputs": [],
      "source": [
        "from sklearn.datasets import fetch_openml\n",
        "X_raw, y_raw = fetch_openml(\"mnist_784\", version=1, return_X_y=True, as_frame=False)"
      ]
    },
    {
      "cell_type": "markdown",
      "metadata": {
        "id": "n3zHI8YPcl1m"
      },
      "source": [
        "# Part 1: Data Exploration\n",
        "\n",
        "Before attempting to train any models, let's investigate the dataset that we just loaded. First, let's take a look at the feature values `X_raw`, which are stored in an array:"
      ]
    },
    {
      "cell_type": "code",
      "execution_count": null,
      "metadata": {
        "colab": {
          "base_uri": "https://localhost:8080/"
        },
        "id": "e5c3Igj0eyGt",
        "outputId": "840e85fb-bd22-4cb9-f310-3dc6a586933f"
      },
      "outputs": [
        {
          "output_type": "execute_result",
          "data": {
            "text/plain": [
              "array([[ 0.,  0.,  0., ...,  0.,  0.,  0.],\n",
              "       [ 0.,  0.,  0., ...,  0.,  0.,  0.],\n",
              "       [ 0.,  0.,  0., ...,  0.,  0.,  0.],\n",
              "       ..., \n",
              "       [ 0.,  0.,  0., ...,  0.,  0.,  0.],\n",
              "       [ 0.,  0.,  0., ...,  0.,  0.,  0.],\n",
              "       [ 0.,  0.,  0., ...,  0.,  0.,  0.]])"
            ]
          },
          "metadata": {},
          "execution_count": 4
        }
      ],
      "source": [
        "X_raw"
      ]
    },
    {
      "cell_type": "markdown",
      "metadata": {
        "id": "BbIDRYJ7ezZN"
      },
      "source": [
        "A bunch of zeros... not very helpful. Let's take a look at the shape of the array `X_raw`:"
      ]
    },
    {
      "cell_type": "code",
      "execution_count": null,
      "metadata": {
        "colab": {
          "base_uri": "https://localhost:8080/"
        },
        "id": "Lw_oBfb2c3jv",
        "outputId": "e3c7b86b-2b6a-46c8-e833-0a05d41ec0ae"
      },
      "outputs": [
        {
          "output_type": "execute_result",
          "data": {
            "text/plain": [
              "(70000, 784)"
            ]
          },
          "metadata": {},
          "execution_count": 5
        }
      ],
      "source": [
        "X_raw.shape"
      ]
    },
    {
      "cell_type": "markdown",
      "metadata": {
        "id": "-n-sTWAXfHwq"
      },
      "source": [
        "We see two values, indicating that `X_raw` is a two-dimensional array, that is, an array of arrays. The first number is 70,000, which is the number of examples in the dataset. The second number is 784, which is the number of features. That is a lot of features!\n",
        "\n",
        "We will get back to these features soon, but before that, let's take a look at the label values `y_raw`:"
      ]
    },
    {
      "cell_type": "code",
      "execution_count": null,
      "metadata": {
        "colab": {
          "base_uri": "https://localhost:8080/"
        },
        "id": "W7qNNp5ffxR0",
        "outputId": "cfd372ee-f424-4b01-8cc4-5c3e2dac5fe3"
      },
      "outputs": [
        {
          "output_type": "execute_result",
          "data": {
            "text/plain": [
              "array(['5', '0', '4', ..., '4', '5', '6'], dtype=object)"
            ]
          },
          "metadata": {},
          "execution_count": 6
        }
      ],
      "source": [
        "y_raw"
      ]
    },
    {
      "cell_type": "markdown",
      "metadata": {
        "id": "XQXnKZ58fyxr"
      },
      "source": [
        "We can see numbers, ranging from 0 to 9. This make sense since the dataset consists of handwritten digits (0-9). We can also take a look at the shape of the array `y_raw`:"
      ]
    },
    {
      "cell_type": "code",
      "execution_count": null,
      "metadata": {
        "colab": {
          "base_uri": "https://localhost:8080/"
        },
        "id": "4ouSCdUbgVE5",
        "outputId": "75384b57-38fd-4ccd-c903-5bb007ced052"
      },
      "outputs": [
        {
          "output_type": "execute_result",
          "data": {
            "text/plain": [
              "(70000,)"
            ]
          },
          "metadata": {},
          "execution_count": 7
        }
      ],
      "source": [
        "y_raw.shape"
      ]
    },
    {
      "cell_type": "markdown",
      "metadata": {
        "id": "m_1sNcwlgiF9"
      },
      "source": [
        "We see that `y_raw` is a simple, one-dimensional array: one label value for each example.\n",
        "\n",
        "Now, let's get back to the features. First, let's display the feature values of the first example in the dataset (note that in Python, arrays are indexed starting from 0, so the index of the first example is 0):"
      ]
    },
    {
      "cell_type": "code",
      "execution_count": null,
      "metadata": {
        "id": "qowpLE4mBGUl",
        "colab": {
          "base_uri": "https://localhost:8080/"
        },
        "outputId": "60070574-7cc6-4aaf-de43-c8e9e2a3d6a3"
      },
      "outputs": [
        {
          "output_type": "execute_result",
          "data": {
            "text/plain": [
              "array([   0.,    0.,    0.,    0.,    0.,    0.,    0.,    0.,    0.,\n",
              "          0.,    0.,    0.,    0.,    0.,    0.,    0.,    0.,    0.,\n",
              "          0.,    0.,    0.,    0.,    0.,    0.,    0.,    0.,    0.,\n",
              "          0.,    0.,    0.,    0.,    0.,    0.,    0.,    0.,    0.,\n",
              "          0.,    0.,    0.,    0.,    0.,    0.,    0.,    0.,    0.,\n",
              "          0.,    0.,    0.,    0.,    0.,    0.,    0.,    0.,    0.,\n",
              "          0.,    0.,    0.,    0.,    0.,    0.,    0.,    0.,    0.,\n",
              "          0.,    0.,    0.,    0.,    0.,    0.,    0.,    0.,    0.,\n",
              "          0.,    0.,    0.,    0.,    0.,    0.,    0.,    0.,    0.,\n",
              "          0.,    0.,    0.,    0.,    0.,    0.,    0.,    0.,    0.,\n",
              "          0.,    0.,    0.,    0.,    0.,    0.,    0.,    0.,    0.,\n",
              "          0.,    0.,    0.,    0.,    0.,    0.,    0.,    0.,    0.,\n",
              "          0.,    0.,    0.,    0.,    0.,    0.,    0.,    0.,    0.,\n",
              "          0.,    0.,    0.,    0.,    0.,    0.,    0.,    0.,    0.,\n",
              "          0.,    0.,    0.,    0.,    0.,    0.,    0.,    0.,    0.,\n",
              "          0.,    0.,    0.,    0.,    0.,    0.,    0.,    0.,    0.,\n",
              "          0.,    0.,    0.,    0.,    0.,    0.,    0.,    0.,    3.,\n",
              "         18.,   18.,   18.,  126.,  136.,  175.,   26.,  166.,  255.,\n",
              "        247.,  127.,    0.,    0.,    0.,    0.,    0.,    0.,    0.,\n",
              "          0.,    0.,    0.,    0.,    0.,   30.,   36.,   94.,  154.,\n",
              "        170.,  253.,  253.,  253.,  253.,  253.,  225.,  172.,  253.,\n",
              "        242.,  195.,   64.,    0.,    0.,    0.,    0.,    0.,    0.,\n",
              "          0.,    0.,    0.,    0.,    0.,   49.,  238.,  253.,  253.,\n",
              "        253.,  253.,  253.,  253.,  253.,  253.,  251.,   93.,   82.,\n",
              "         82.,   56.,   39.,    0.,    0.,    0.,    0.,    0.,    0.,\n",
              "          0.,    0.,    0.,    0.,    0.,    0.,   18.,  219.,  253.,\n",
              "        253.,  253.,  253.,  253.,  198.,  182.,  247.,  241.,    0.,\n",
              "          0.,    0.,    0.,    0.,    0.,    0.,    0.,    0.,    0.,\n",
              "          0.,    0.,    0.,    0.,    0.,    0.,    0.,    0.,   80.,\n",
              "        156.,  107.,  253.,  253.,  205.,   11.,    0.,   43.,  154.,\n",
              "          0.,    0.,    0.,    0.,    0.,    0.,    0.,    0.,    0.,\n",
              "          0.,    0.,    0.,    0.,    0.,    0.,    0.,    0.,    0.,\n",
              "          0.,   14.,    1.,  154.,  253.,   90.,    0.,    0.,    0.,\n",
              "          0.,    0.,    0.,    0.,    0.,    0.,    0.,    0.,    0.,\n",
              "          0.,    0.,    0.,    0.,    0.,    0.,    0.,    0.,    0.,\n",
              "          0.,    0.,    0.,    0.,  139.,  253.,  190.,    2.,    0.,\n",
              "          0.,    0.,    0.,    0.,    0.,    0.,    0.,    0.,    0.,\n",
              "          0.,    0.,    0.,    0.,    0.,    0.,    0.,    0.,    0.,\n",
              "          0.,    0.,    0.,    0.,    0.,   11.,  190.,  253.,   70.,\n",
              "          0.,    0.,    0.,    0.,    0.,    0.,    0.,    0.,    0.,\n",
              "          0.,    0.,    0.,    0.,    0.,    0.,    0.,    0.,    0.,\n",
              "          0.,    0.,    0.,    0.,    0.,    0.,    0.,   35.,  241.,\n",
              "        225.,  160.,  108.,    1.,    0.,    0.,    0.,    0.,    0.,\n",
              "          0.,    0.,    0.,    0.,    0.,    0.,    0.,    0.,    0.,\n",
              "          0.,    0.,    0.,    0.,    0.,    0.,    0.,    0.,    0.,\n",
              "         81.,  240.,  253.,  253.,  119.,   25.,    0.,    0.,    0.,\n",
              "          0.,    0.,    0.,    0.,    0.,    0.,    0.,    0.,    0.,\n",
              "          0.,    0.,    0.,    0.,    0.,    0.,    0.,    0.,    0.,\n",
              "          0.,    0.,   45.,  186.,  253.,  253.,  150.,   27.,    0.,\n",
              "          0.,    0.,    0.,    0.,    0.,    0.,    0.,    0.,    0.,\n",
              "          0.,    0.,    0.,    0.,    0.,    0.,    0.,    0.,    0.,\n",
              "          0.,    0.,    0.,    0.,   16.,   93.,  252.,  253.,  187.,\n",
              "          0.,    0.,    0.,    0.,    0.,    0.,    0.,    0.,    0.,\n",
              "          0.,    0.,    0.,    0.,    0.,    0.,    0.,    0.,    0.,\n",
              "          0.,    0.,    0.,    0.,    0.,    0.,    0.,  249.,  253.,\n",
              "        249.,   64.,    0.,    0.,    0.,    0.,    0.,    0.,    0.,\n",
              "          0.,    0.,    0.,    0.,    0.,    0.,    0.,    0.,    0.,\n",
              "          0.,    0.,    0.,    0.,    0.,   46.,  130.,  183.,  253.,\n",
              "        253.,  207.,    2.,    0.,    0.,    0.,    0.,    0.,    0.,\n",
              "          0.,    0.,    0.,    0.,    0.,    0.,    0.,    0.,    0.,\n",
              "          0.,    0.,    0.,    0.,   39.,  148.,  229.,  253.,  253.,\n",
              "        253.,  250.,  182.,    0.,    0.,    0.,    0.,    0.,    0.,\n",
              "          0.,    0.,    0.,    0.,    0.,    0.,    0.,    0.,    0.,\n",
              "          0.,    0.,    0.,   24.,  114.,  221.,  253.,  253.,  253.,\n",
              "        253.,  201.,   78.,    0.,    0.,    0.,    0.,    0.,    0.,\n",
              "          0.,    0.,    0.,    0.,    0.,    0.,    0.,    0.,    0.,\n",
              "          0.,    0.,   23.,   66.,  213.,  253.,  253.,  253.,  253.,\n",
              "        198.,   81.,    2.,    0.,    0.,    0.,    0.,    0.,    0.,\n",
              "          0.,    0.,    0.,    0.,    0.,    0.,    0.,    0.,    0.,\n",
              "          0.,   18.,  171.,  219.,  253.,  253.,  253.,  253.,  195.,\n",
              "         80.,    9.,    0.,    0.,    0.,    0.,    0.,    0.,    0.,\n",
              "          0.,    0.,    0.,    0.,    0.,    0.,    0.,    0.,    0.,\n",
              "         55.,  172.,  226.,  253.,  253.,  253.,  253.,  244.,  133.,\n",
              "         11.,    0.,    0.,    0.,    0.,    0.,    0.,    0.,    0.,\n",
              "          0.,    0.,    0.,    0.,    0.,    0.,    0.,    0.,    0.,\n",
              "          0.,  136.,  253.,  253.,  253.,  212.,  135.,  132.,   16.,\n",
              "          0.,    0.,    0.,    0.,    0.,    0.,    0.,    0.,    0.,\n",
              "          0.,    0.,    0.,    0.,    0.,    0.,    0.,    0.,    0.,\n",
              "          0.,    0.,    0.,    0.,    0.,    0.,    0.,    0.,    0.,\n",
              "          0.,    0.,    0.,    0.,    0.,    0.,    0.,    0.,    0.,\n",
              "          0.,    0.,    0.,    0.,    0.,    0.,    0.,    0.,    0.,\n",
              "          0.,    0.,    0.,    0.,    0.,    0.,    0.,    0.,    0.,\n",
              "          0.,    0.,    0.,    0.,    0.,    0.,    0.,    0.,    0.,\n",
              "          0.,    0.,    0.,    0.,    0.,    0.,    0.,    0.,    0.,\n",
              "          0.,    0.,    0.,    0.,    0.,    0.,    0.,    0.,    0.,\n",
              "          0.,    0.,    0.,    0.,    0.,    0.,    0.,    0.,    0.,\n",
              "          0.,    0.,    0.,    0.,    0.,    0.,    0.,    0.,    0.,    0.])"
            ]
          },
          "metadata": {},
          "execution_count": 8
        }
      ],
      "source": [
        "X_raw[0]"
      ]
    },
    {
      "cell_type": "markdown",
      "metadata": {
        "id": "n9ZR9ChThMYp"
      },
      "source": [
        "We see a bunch of numbers, which are mostly zero, with a few larger values scattered around. What is the meaning of this?\n",
        "\n",
        "The numbers that we see above are **image data**, which is not easy for humans to read in their raw form. The data will make much more sense if we display the first example `X_raw[0]` as an image:"
      ]
    },
    {
      "cell_type": "code",
      "execution_count": null,
      "metadata": {
        "colab": {
          "base_uri": "https://localhost:8080/",
          "height": 265
        },
        "id": "i6BLo8DHiFx_",
        "outputId": "526ecd9d-e7af-40a8-ee09-e252a8b1702d"
      },
      "outputs": [
        {
          "output_type": "display_data",
          "data": {
            "text/plain": [
              "<Figure size 432x288 with 1 Axes>"
            ],
            "image/png": "[encoded data removed]"
          },
          "metadata": {
            "needs_background": "light"
          }
        }
      ],
      "source": [
        "plots.imshow(X_raw[0].reshape(28, 28), cmap='binary')\n",
        "plots.show()"
      ]
    },
    {
      "cell_type": "markdown",
      "metadata": {
        "id": "ug7oLjUpiMHd"
      },
      "source": [
        "Nice. This looks like the digit 5. We can also check the corresponding label to be sure:"
      ]
    },
    {
      "cell_type": "code",
      "execution_count": null,
      "metadata": {
        "colab": {
          "base_uri": "https://localhost:8080/",
          "height": 35
        },
        "id": "Xhk0NLBvjEdE",
        "outputId": "bbcd178c-6ee8-4603-a7d0-1f9a0a585fe0"
      },
      "outputs": [
        {
          "output_type": "execute_result",
          "data": {
            "text/plain": [
              "'5'"
            ],
            "application/vnd.google.colaboratory.intrinsic+json": {
              "type": "string"
            }
          },
          "metadata": {},
          "execution_count": 10
        }
      ],
      "source": [
        "y_raw[0]"
      ]
    },
    {
      "cell_type": "markdown",
      "metadata": {
        "id": "95v7bvrsjGR8"
      },
      "source": [
        "Okay, the label also says 5.\n",
        "\n",
        "So, how is the above image represented by 784 features? To answer this, we need to understand the basics of how digital images are stored by computers, phones, etc. The most common way to represent 2D images digitally is using [raster graphics](https://en.wikipedia.org/wiki/Raster_graphics) (e.g., JPEG and PNG files, but even video frames). A raster graphic represent a 2D image as a rectangular grid of square pixels. Each small square in the above image is one pixel. \n",
        "\n",
        "You may have noticed that our image looks \"blocky\" (i.e., like Minecraft). The reason for this is that our image consists of only 28 by 28 pixels (28 rows and 28 columns), and each pixel is a uniformly colored square.\n",
        "\n",
        "The image data `X_raw[0]` specifies the color of each pixel: 28 rows by 28 columns = 28 * 28 = 784 pixels. The 784 features specify the colors of the 784 pixels.\n",
        "\n",
        "Finally, let's look at the individual feature values, which are supposed to represent colors:"
      ]
    },
    {
      "cell_type": "code",
      "execution_count": null,
      "metadata": {
        "colab": {
          "base_uri": "https://localhost:8080/"
        },
        "id": "iZnP5REXC5mL",
        "outputId": "fa242bfa-3d63-4615-f94b-3c58a347dcf6"
      },
      "outputs": [
        {
          "output_type": "stream",
          "name": "stdout",
          "text": [
            "Pixel values\n",
            "Minimum: 0.0\n",
            "Mean: 33.3859647413\n",
            "Maximum: 255.0\n",
            "Std.dev.: 78.6543736269\n"
          ]
        }
      ],
      "source": [
        "print(\"Pixel values\")\n",
        "print(\"Minimum:\", np.min(X_raw))\n",
        "print(\"Mean:\", np.mean(X_raw))\n",
        "print(\"Maximum:\", np.max(X_raw))\n",
        "print(\"Std.dev.:\", np.std(X_raw))"
      ]
    },
    {
      "cell_type": "markdown",
      "metadata": {
        "id": "ug6HRPvzlrmo"
      },
      "source": [
        "We see that feature values range from 0 to 255, and most values are 0 (or close to 0).\n",
        "\n",
        "You may have also noticed that our image is grayscale: it has only black, white, and various shades of gray in between. This simplifies the representation since for each pixel, we need to store only its brightness, which can be represented by a single number. In this dataset, 0 represents white, 255 represents black, and values in between represent gray pixels (lower values being brighter, and higher values being darker)."
      ]
    },
    {
      "cell_type": "markdown",
      "metadata": {
        "id": "-nnzajD-aGGv"
      },
      "source": [
        "\n",
        "Displaying the first 10 images in the dataset and their corresponding label ⬇⬇⬇⬇\n",
        "\n"
      ]
    },
    {
      "cell_type": "code",
      "execution_count": null,
      "metadata": {
        "colab": {
          "base_uri": "https://localhost:8080/",
          "height": 1000
        },
        "id": "z7zLg786YeF3",
        "outputId": "eba630cd-6917-4da4-a1be-2a102772b69e"
      },
      "outputs": [
        {
          "output_type": "display_data",
          "data": {
            "text/plain": [
              "<Figure size 432x288 with 1 Axes>"
            ],
            "image/png": "[encoded data removed]"
          },
          "metadata": {
            "needs_background": "light"
          }
        },
        {
          "output_type": "stream",
          "name": "stdout",
          "text": [
            "Label: 5\n"
          ]
        },
        {
          "output_type": "display_data",
          "data": {
            "text/plain": [
              "<Figure size 432x288 with 1 Axes>"
            ],
            "image/png": "[encoded data removed]"
          },
          "metadata": {
            "needs_background": "light"
          }
        },
        {
          "output_type": "stream",
          "name": "stdout",
          "text": [
            "Label: 0\n"
          ]
        },
        {
          "output_type": "display_data",
          "data": {
            "text/plain": [
              "<Figure size 432x288 with 1 Axes>"
            ],
            "image/png": "[encoded data removed]"
          },
          "metadata": {
            "needs_background": "light"
          }
        },
        {
          "output_type": "stream",
          "name": "stdout",
          "text": [
            "Label: 4\n"
          ]
        },
        {
          "output_type": "display_data",
          "data": {
            "text/plain": [
              "<Figure size 432x288 with 1 Axes>"
            ],
            "image/png": "[encoded data removed]"
          },
          "metadata": {
            "needs_background": "light"
          }
        },
        {
          "output_type": "stream",
          "name": "stdout",
          "text": [
            "Label: 1\n"
          ]
        },
        {
          "output_type": "display_data",
          "data": {
            "text/plain": [
              "<Figure size 432x288 with 1 Axes>"
            ],
            "image/png": "[encoded data removed]"
          },
          "metadata": {
            "needs_background": "light"
          }
        },
        {
          "output_type": "stream",
          "name": "stdout",
          "text": [
            "Label: 9\n"
          ]
        },
        {
          "output_type": "display_data",
          "data": {
            "text/plain": [
              "<Figure size 432x288 with 1 Axes>"
            ],
            "image/png": "[encoded data removed]"
          },
          "metadata": {
            "needs_background": "light"
          }
        },
        {
          "output_type": "stream",
          "name": "stdout",
          "text": [
            "Label: 2\n"
          ]
        },
        {
          "output_type": "display_data",
          "data": {
            "text/plain": [
              "<Figure size 432x288 with 1 Axes>"
            ],
            "image/png": "[encoded data removed]"
          },
          "metadata": {
            "needs_background": "light"
          }
        },
        {
          "output_type": "stream",
          "name": "stdout",
          "text": [
            "Label: 1\n"
          ]
        },
        {
          "output_type": "display_data",
          "data": {
            "text/plain": [
              "<Figure size 432x288 with 1 Axes>"
            ],
            "image/png": "[encoded data removed]"
          },
          "metadata": {
            "needs_background": "light"
          }
        },
        {
          "output_type": "stream",
          "name": "stdout",
          "text": [
            "Label: 3\n"
          ]
        },
        {
          "output_type": "display_data",
          "data": {
            "text/plain": [
              "<Figure size 432x288 with 1 Axes>"
            ],
            "image/png": "[encoded data removed]"
          },
          "metadata": {
            "needs_background": "light"
          }
        },
        {
          "output_type": "stream",
          "name": "stdout",
          "text": [
            "Label: 1\n"
          ]
        },
        {
          "output_type": "display_data",
          "data": {
            "text/plain": [
              "<Figure size 432x288 with 1 Axes>"
            ],
            "image/png": "[encoded data removed]"
          },
          "metadata": {
            "needs_background": "light"
          }
        },
        {
          "output_type": "stream",
          "name": "stdout",
          "text": [
            "Label: 4\n"
          ]
        }
      ],
      "source": [
        "for i in np.arange(10):\n",
        "  plots.imshow(X_raw[i].reshape(28, 28), cmap='binary')\n",
        "  plots.show()\n",
        "  print('Label: ' + y_raw[i])\n",
        "\n",
        "  \n"
      ]
    },
    {
      "cell_type": "markdown",
      "metadata": {
        "id": "xEZP0-yxdHZT"
      },
      "source": [
        "# Part 2: Preparation of Training and Test Sets\n",
        "\n",
        "Now that we are familar with the dataset, let's start preparing it for training. First, we need to normalize the feature values (this is always a good idea before training):"
      ]
    },
    {
      "cell_type": "code",
      "execution_count": null,
      "metadata": {
        "id": "A9LBjI-wMnaF"
      },
      "outputs": [],
      "source": [
        "X = (X_raw - np.mean(X_raw)) / np.std(X_raw)"
      ]
    },
    {
      "cell_type": "markdown",
      "metadata": {
        "id": "bAf7tswQosqo"
      },
      "source": [
        "We can verify that the array `X` has zero mean and unit std. dev.:"
      ]
    },
    {
      "cell_type": "code",
      "execution_count": null,
      "metadata": {
        "colab": {
          "base_uri": "https://localhost:8080/"
        },
        "id": "tZHHNkYKo0mi",
        "outputId": "a871f0d1-ec75-4dd2-a805-395f3da8ae7e"
      },
      "outputs": [
        {
          "output_type": "stream",
          "name": "stdout",
          "text": [
            "Feature mean: -9.2615413233e-16\n",
            "Feature std. dev.: 1.0\n"
          ]
        }
      ],
      "source": [
        "print(\"Feature mean:\", np.mean(X))\n",
        "print(\"Feature std. dev.:\", np.std(X))"
      ]
    },
    {
      "cell_type": "markdown",
      "metadata": {
        "id": "PZ4pIi06pBYv"
      },
      "source": [
        "Nice. \n",
        "\n",
        "Next, let's take a look at the label values:"
      ]
    },
    {
      "cell_type": "code",
      "execution_count": null,
      "metadata": {
        "colab": {
          "base_uri": "https://localhost:8080/"
        },
        "id": "41aj87Gpb6JZ",
        "outputId": "b0210e24-4ce2-404d-a90c-25e2e726fcdd"
      },
      "outputs": [
        {
          "name": "stdout",
          "output_type": "stream",
          "text": [
            "Labels: ['5' '0' '4' ..., '4' '5' '6']\n"
          ]
        }
      ],
      "source": [
        "print(\"Labels:\", y_raw)"
      ]
    },
    {
      "cell_type": "markdown",
      "metadata": {
        "id": "_02XQux3pY2u"
      },
      "source": [
        "We see that labels are represented as strings, not numbers (notice the quotation marks ' around the numbers). While this would not pose a challenge for most classification algorithms, it will simpler if we convert the labels to integers:"
      ]
    },
    {
      "cell_type": "code",
      "execution_count": null,
      "metadata": {
        "id": "JeA-WjXKcKXj"
      },
      "outputs": [],
      "source": [
        "y = y_raw.astype(int)"
      ]
    },
    {
      "cell_type": "markdown",
      "metadata": {
        "id": "2gTjeN_sps_M"
      },
      "source": [
        "We can verify that the array `y` consists of integer values:"
      ]
    },
    {
      "cell_type": "code",
      "execution_count": null,
      "metadata": {
        "colab": {
          "base_uri": "https://localhost:8080/"
        },
        "id": "0xLxLBJpcNdd",
        "outputId": "2a2fc39d-52b0-43f6-b8c2-2c78c8f21eae"
      },
      "outputs": [
        {
          "name": "stdout",
          "output_type": "stream",
          "text": [
            "Labels: [5 0 4 ..., 4 5 6]\n"
          ]
        }
      ],
      "source": [
        "print(\"Labels:\", y)"
      ]
    },
    {
      "cell_type": "markdown",
      "metadata": {
        "id": "CuHHrG_Upy76"
      },
      "source": [
        "All that remains is to randomly split our dataset into a traning and a test set (we will not need a validation set in this assignment because we will not be tweaking hyperparamters). Since we are already familiar with the theory behind this, we can save time by invoking a built-in scikit-learn function to perform the split:"
      ]
    },
    {
      "cell_type": "code",
      "execution_count": null,
      "metadata": {
        "id": "3n025S0BdZOH"
      },
      "outputs": [],
      "source": [
        "from sklearn.model_selection import train_test_split\n",
        "\n",
        "X_train, X_test, y_train, y_test = train_test_split(X, y, train_size=0.8)"
      ]
    },
    {
      "cell_type": "markdown",
      "metadata": {
        "id": "yEB8vITKqWv2"
      },
      "source": [
        "Function `train_test_split` randomly shuffles the features `X` along with their corresponding labels `y`, and then assigns `train_size` fraction of the examples to a training set and the remaining examples to a test set. In this case, we assigned 80% of the dataset to our training set `X_train` and `y_train`, and the remaining 20% to our test set `X_test` and `y_test`.\n",
        "\n",
        "We can verify that the training and test arrays have the right shapes:"
      ]
    },
    {
      "cell_type": "code",
      "execution_count": null,
      "metadata": {
        "colab": {
          "base_uri": "https://localhost:8080/"
        },
        "id": "MD4kgzFYhKsn",
        "outputId": "d42c0952-c5ee-47ee-8e6c-1454fc1c823f"
      },
      "outputs": [
        {
          "name": "stdout",
          "output_type": "stream",
          "text": [
            "(56000, 784) (56000,)\n",
            "(14000, 784) (14000,)\n"
          ]
        }
      ],
      "source": [
        "print(X_train.shape, y_train.shape)\n",
        "print(X_test.shape, y_test.shape)"
      ]
    },
    {
      "cell_type": "markdown",
      "metadata": {
        "id": "MwlHTc4zraxI"
      },
      "source": [
        "The training set has 56,000 examples, while the test set has 14,000 examples. Examples in both sets have 784 features."
      ]
    },
    {
      "cell_type": "markdown",
      "metadata": {
        "id": "q7bQBpsbSDnT"
      },
      "source": [
        "###Distribution of Labels in the Training and Test Sets \n",
        "\n",
        "Let's verify that the split was indeed random by comparing the distribution of the labels in the training and test sets.\n",
        "\n",
        "I will create two bar plots,one showing the number of examples for each digit (0-9) in the training set; and one showing the same for the test set. \n"
      ]
    },
    {
      "cell_type": "code",
      "execution_count": null,
      "metadata": {
        "colab": {
          "base_uri": "https://localhost:8080/",
          "height": 283
        },
        "id": "HTVM5Ydjh32f",
        "outputId": "8bd3a25b-55c7-414c-9c17-4057b39c7681"
      },
      "outputs": [
        {
          "data": {
            "text/plain": [
              "<BarContainer object of 10 artists>"
            ]
          },
          "execution_count": 49,
          "metadata": {},
          "output_type": "execute_result"
        },
        {
          "data": {
            "image/png": "[encoded data removed]",
            "text/plain": [
              "<Figure size 432x288 with 1 Axes>"
            ]
          },
          "metadata": {
            "needs_background": "light"
          },
          "output_type": "display_data"
        }
      ],
      "source": [
        "Label = Table()\n",
        "Label.append_column('Label', y_train)\n",
        "new = Label.group('Label')\n",
        "plots.bar(new.column('Label'), new.column('count'), color ='maroon')\n",
        "\n"
      ]
    },
    {
      "cell_type": "code",
      "execution_count": null,
      "metadata": {
        "colab": {
          "base_uri": "https://localhost:8080/",
          "height": 283
        },
        "id": "rquvfUqrnfVn",
        "outputId": "0d9ece4b-e1d4-405c-b27f-9a927fea2a5a"
      },
      "outputs": [
        {
          "data": {
            "text/plain": [
              "<BarContainer object of 10 artists>"
            ]
          },
          "execution_count": 50,
          "metadata": {},
          "output_type": "execute_result"
        },
        {
          "data": {
            "image/png": "[encoded data removed]",
            "text/plain": [
              "<Figure size 432x288 with 1 Axes>"
            ]
          },
          "metadata": {
            "needs_background": "light"
          },
          "output_type": "display_data"
        }
      ],
      "source": [
        "Label = Table()\n",
        "Label.append_column('Label', y_test)\n",
        "new = Label.group('Label')\n",
        "plots.bar(new.column('Label'), new.column('count'), color ='blue')"
      ]
    },
    {
      "cell_type": "markdown",
      "metadata": {
        "id": "R-wfuzyjsaDe"
      },
      "source": [
        "We can see that the distribution of labels is roughly the same in the training and test sets."
      ]
    },
    {
      "cell_type": "markdown",
      "metadata": {
        "id": "KgNLfD9Wie1a"
      },
      "source": [
        "# Part 3: Training\n",
        "\n",
        "Now that our training and test sets are ready, we can train a neural network to perform image recognition, specifically, to recognize handwritten digits. In this assignment, we will use a simple feed-forward network with only one hidden layer:"
      ]
    },
    {
      "cell_type": "code",
      "execution_count": null,
      "metadata": {
        "colab": {
          "base_uri": "https://localhost:8080/"
        },
        "id": "BMIf94K-P7yA",
        "outputId": "e2d67dad-aeb7-43ef-8399-3aecc6cbb3b4"
      },
      "outputs": [
        {
          "data": {
            "text/plain": [
              "MLPClassifier(hidden_layer_sizes=5)"
            ]
          },
          "execution_count": 52,
          "metadata": {},
          "output_type": "execute_result"
        }
      ],
      "source": [
        "from sklearn.neural_network import MLPClassifier\n",
        "\n",
        "neural_network = MLPClassifier(hidden_layer_sizes=(5))\n",
        "neural_network.fit(X_train, y_train)"
      ]
    },
    {
      "cell_type": "markdown",
      "metadata": {
        "id": "on_hx0nlQLqF"
      },
      "source": [
        "Training this model takes only a minute or so since the model is really simple: it consists of only 5 hidden neurons. Applying the model to our test set takes even less time:"
      ]
    },
    {
      "cell_type": "code",
      "execution_count": null,
      "metadata": {
        "id": "MQsEbJEXQTMp"
      },
      "outputs": [],
      "source": [
        "y_pred = neural_network.predict(X_test)"
      ]
    },
    {
      "cell_type": "markdown",
      "metadata": {
        "id": "EyBcBHU7Qoc_"
      },
      "source": [
        "### Neural Network Training \n",
        "\n",
        "I will train a neural network with **400** hidden neurons on `X_train` and `y_train`, apply it to `X_test` to obtain predicted labels `y_pred`, and calculate and print the accuracy of the predictions by comparing `y_pred` to `y_test`. Training should take around 5 minutes (or less) depending on the platform.\n"
      ]
    },
    {
      "cell_type": "code",
      "execution_count": null,
      "metadata": {
        "colab": {
          "base_uri": "https://localhost:8080/"
        },
        "id": "7auiD3JVil6H",
        "outputId": "e5439183-a0ad-42e0-ada1-e802114da32e"
      },
      "outputs": [
        {
          "name": "stdout",
          "output_type": "stream",
          "text": [
            "Accuracy: 0.981\n",
            "Error: 1.9 %\n"
          ]
        }
      ],
      "source": [
        "neural_network = MLPClassifier(hidden_layer_sizes=(400), activation='logistic', random_state=0)\n",
        "neural_network.fit(X_train, y_train)\n",
        "y_predicted = neural_network.predict(X_test)\n",
        "accuracy = sum(y_test == y_predicted) / len(y_predicted)\n",
        "print(\"Accuracy:\", accuracy)\n",
        "print(\"Error:\", (1 - accuracy) * 100, \"%\")"
      ]
    },
    {
      "cell_type": "markdown",
      "metadata": {
        "id": "4w7dEPUSk00F"
      },
      "source": [
        "# Part 4: Evaluation\n",
        "\n",
        "Beyond measuring simple accuracy, we may also be interested in the typical mistakes that our classifier makes. A standard way of displaying this information is using a [confusion matrix](https://en.wikipedia.org/wiki/Confusion_matrix) (we need make sure that the predictions `y_pred` are from the larger, more accurate model that we trained):"
      ]
    },
    {
      "cell_type": "code",
      "execution_count": null,
      "metadata": {
        "colab": {
          "base_uri": "https://localhost:8080/",
          "height": 297
        },
        "id": "tPhAXV4mk3pa",
        "outputId": "8bcef99f-d4b8-4151-ab33-dc942444b81f"
      },
      "outputs": [
        {
          "data": {
            "text/plain": [
              "<sklearn.metrics._plot.confusion_matrix.ConfusionMatrixDisplay at 0x7f5f58ebd1f0>"
            ]
          },
          "execution_count": 59,
          "metadata": {},
          "output_type": "execute_result"
        },
        {
          "data": {
            "image/png": "[encoded data removed]",
            "text/plain": [
              "<Figure size 432x288 with 2 Axes>"
            ]
          },
          "metadata": {
            "needs_background": "light"
          },
          "output_type": "display_data"
        }
      ],
      "source": [
        "from sklearn.metrics import ConfusionMatrixDisplay\n",
        "ConfusionMatrixDisplay.from_predictions(y_test, y_pred)"
      ]
    },
    {
      "cell_type": "markdown",
      "metadata": {
        "id": "uG4_FEXquYu2"
      },
      "source": [
        "The rows of the confusion matrix represent the actual (true) labels, while the columns represent the predicted labels (from our classifier). The diagonal, where the actual and predicted labels are the same, represents correct predictions. The numbers show how many test examples fall into each category. For example, the first number in the first row is the number of test examples where both the actual and predicted label are 0; the second number in the first row is the number of examples where the actual label is 0, but the predicted label is 1; the first number in the second row is the number of test examples where the actual label is 1, but the predicted label is 0; and so on.\n",
        "\n",
        "Fortunately, the highest number in each row is on the diagonal, which means that most test examples are correctly recognized by our model. The confusion matrix can help us identify which digits are difficult to recognize, and what the typical mistakes are."
      ]
    },
    {
      "cell_type": "markdown",
      "metadata": {
        "id": "3BiX7ve7RucF"
      },
      "source": [
        "### Finding and Displaying Misclassified Digits \n",
        "\n",
        "Let's take a look at the test examples that confused our model the most.\n",
        "\n",
        "First, lets find the highest off-diagonal number in the confusion matrix \n",
        "\n",
        "Second, lets write the code to iterate over the test set and display the image\n",
        "\n"
      ]
    },
    {
      "cell_type": "code",
      "execution_count": null,
      "metadata": {
        "colab": {
          "base_uri": "https://localhost:8080/",
          "height": 1000
        },
        "id": "cclnrK4RI2Ls",
        "outputId": "65f260c3-7835-46fa-da94-3714b9de05c4"
      },
      "outputs": [
        {
          "data": {
            "image/png": "[encoded data removed]",
            "text/plain": [
              "<Figure size 432x288 with 1 Axes>"
            ]
          },
          "metadata": {
            "needs_background": "light"
          },
          "output_type": "display_data"
        },
        {
          "data": {
            "image/png": "[encoded data removed]",
            "text/plain": [
              "<Figure size 432x288 with 1 Axes>"
            ]
          },
          "metadata": {
            "needs_background": "light"
          },
          "output_type": "display_data"
        },
        {
          "data": {
            "image/png": "[encoded data removed]",
            "text/plain": [
              "<Figure size 432x288 with 1 Axes>"
            ]
          },
          "metadata": {
            "needs_background": "light"
          },
          "output_type": "display_data"
        },
        {
          "data": {
            "image/png": "[encoded data removed]",
            "text/plain": [
              "<Figure size 432x288 with 1 Axes>"
            ]
          },
          "metadata": {
            "needs_background": "light"
          },
          "output_type": "display_data"
        },
        {
          "data": {
            "image/png": "[encoded data removed]",
            "text/plain": [
              "<Figure size 432x288 with 1 Axes>"
            ]
          },
          "metadata": {
            "needs_background": "light"
          },
          "output_type": "display_data"
        },
        {
          "data": {
            "image/png": "[encoded data removed]",
            "text/plain": [
              "<Figure size 432x288 with 1 Axes>"
            ]
          },
          "metadata": {
            "needs_background": "light"
          },
          "output_type": "display_data"
        },
        {
          "data": {
            "image/png": "[encoded data removed]",
            "text/plain": [
              "<Figure size 432x288 with 1 Axes>"
            ]
          },
          "metadata": {
            "needs_background": "light"
          },
          "output_type": "display_data"
        },
        {
          "data": {
            "image/png": "[encoded data removed]",
            "text/plain": [
              "<Figure size 432x288 with 1 Axes>"
            ]
          },
          "metadata": {
            "needs_background": "light"
          },
          "output_type": "display_data"
        }
      ],
      "source": [
        "\n",
        "actual_label = 3\n",
        "predicted_label = 8\n",
        "for i in np.arange(len(y_test)):\n",
        "  if y_test[i] == actual_label and y_pred[i] == predicted_label:\n",
        "    plots.imshow(X_test[i].reshape(28, 28), cmap='binary')\n",
        "    plots.show()\n",
        "\n",
        "\n"
      ]
    },
    {
      "cell_type": "markdown",
      "metadata": {
        "id": "ndbO_2ccHHRw"
      },
      "source": [
        "# Part 5: Comparison\n",
        "\n",
        "We conclude this by comparing our neural network with two other models: an XGBoost decision tree and a *k*-nearest neighbor classifier.\n",
        "\n",
        "### Comparison with Other Classifiers\n",
        "\n",
        "Lets train an XGBoost and a *k*-nearest neighbor classifier using scikit-learn on `X_train` and `y_train`, then apply them to `X_test` and `y_test` to obtain predictions `y_pred`, and calculate and print the accuracy of the classifiers (by comparing `y_pred` to `y_test`)."
      ]
    },
    {
      "cell_type": "code",
      "execution_count": null,
      "metadata": {
        "colab": {
          "base_uri": "https://localhost:8080/"
        },
        "id": "Y2v2lHbDHKfO",
        "outputId": "6b011ab3-1587-45fb-de6b-a819af27c7c1"
      },
      "outputs": [
        {
          "name": "stdout",
          "output_type": "stream",
          "text": [
            "Accuracy: 0.905\n",
            "Error: 9.5 %\n"
          ]
        }
      ],
      "source": [
        "# XGboost\n",
        "from xgboost import XGBClassifier\n",
        "xgboost_model = XGBClassifier(n_estimators=50)\n",
        "xgboost_model.fit(X_train, y_train)\n",
        "y_predicted = xgboost_model.predict(X_test)\n",
        "accuracy = sum(y_test == y_predicted) / len(y_predicted)\n",
        "print(\"Accuracy:\", accuracy)\n",
        "print(\"Error:\", (1 - accuracy) * 100, \"%\")"
      ]
    },
    {
      "cell_type": "code",
      "execution_count": null,
      "metadata": {
        "colab": {
          "base_uri": "https://localhost:8080/"
        },
        "id": "Q9hMy-EbKKuD",
        "outputId": "7b3a956c-1fd1-47c8-c7f7-b86b5b376e6b"
      },
      "outputs": [
        {
          "name": "stdout",
          "output_type": "stream",
          "text": [
            "Accuracy: 0.972214285714\n",
            "Error: 2.77857142857 %\n"
          ]
        }
      ],
      "source": [
        "# K-NN\n",
        "from sklearn.neighbors import KNeighborsClassifier\n",
        "knn_model = KNeighborsClassifier()\n",
        "knn_model.fit(X_train, y_train)\n",
        "y_predicted = knn_model.predict(X_test)\n",
        "accuracy = sum(y_test == y_predicted) / len(y_predicted)\n",
        "print(\"Accuracy:\", accuracy)\n",
        "print(\"Error:\", (1 - accuracy) * 100, \"%\")"
      ]
    }
  ],
  "metadata": {
    "colab": {
      "provenance": []
    },
    "kernelspec": {
      "display_name": "Python 3.10.6 64-bit",
      "language": "python",
      "name": "python3"
    },
    "language_info": {
      "name": "python",
      "version": "3.10.6"
    },
    "vscode": {
      "interpreter": {
        "hash": "26f2a6135ce6057a87b81d0b6a9278faafbee0673cd3cc785cd48e79112e964c"
      }
    }
  },
  "nbformat": 4,
  "nbformat_minor": 0
}